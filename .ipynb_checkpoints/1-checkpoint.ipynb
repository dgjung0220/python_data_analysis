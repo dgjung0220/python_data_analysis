{
 "cells": [
  {
   "cell_type": "code",
   "execution_count": 1,
   "metadata": {},
   "outputs": [],
   "source": [
    "import pandas as pd\n",
    "import numpy as np\n",
    "import matplotlib.pyplot as plt\n",
    "%matplotlib inline"
   ]
  },
  {
   "cell_type": "code",
   "execution_count": 2,
   "metadata": {},
   "outputs": [],
   "source": [
    "file_name = '2015_theaters_in_korea.xlsx'\n",
    "df = pd.read_excel(file_name, \n",
    "                   sheet_name='서울',\n",
    "                   usecols= 'B,C,D,E,F,G,H,P,Q',\n",
    "                   encoding='utf-8').head(81)"
   ]
  },
  {
   "cell_type": "code",
   "execution_count": 3,
   "metadata": {},
   "outputs": [
    {
     "data": {
      "text/plain": [
       "총 스크린 수    511.0\n",
       "dtype: float64"
      ]
     },
     "execution_count": 3,
     "metadata": {},
     "output_type": "execute_result"
    }
   ],
   "source": [
    "np.sum(df.loc[:,['총 스크린 수']])\n"
   ]
  },
  {
   "cell_type": "code",
   "execution_count": 4,
   "metadata": {},
   "outputs": [
    {
     "data": {
      "text/plain": [
       "총 좌석수    89160.0\n",
       "dtype: float64"
      ]
     },
     "execution_count": 4,
     "metadata": {},
     "output_type": "execute_result"
    }
   ],
   "source": [
    "np.sum(df.loc[:,['총 좌석수']])"
   ]
  },
  {
   "cell_type": "code",
   "execution_count": 5,
   "metadata": {
    "scrolled": false
   },
   "outputs": [
    {
     "data": {
      "text/html": [
       "<div>\n",
       "<style scoped>\n",
       "    .dataframe tbody tr th:only-of-type {\n",
       "        vertical-align: middle;\n",
       "    }\n",
       "\n",
       "    .dataframe tbody tr th {\n",
       "        vertical-align: top;\n",
       "    }\n",
       "\n",
       "    .dataframe thead th {\n",
       "        text-align: right;\n",
       "    }\n",
       "</style>\n",
       "<table border=\"1\" class=\"dataframe\">\n",
       "  <thead>\n",
       "    <tr style=\"text-align: right;\">\n",
       "      <th></th>\n",
       "      <th>광역단체</th>\n",
       "      <th>기초단체</th>\n",
       "      <th>영화관명</th>\n",
       "      <th>대기업 운영 여부</th>\n",
       "      <th>소재지</th>\n",
       "      <th>총 스크린 수</th>\n",
       "      <th>총 좌석수</th>\n",
       "      <th>홈페이지</th>\n",
       "      <th>개관일</th>\n",
       "    </tr>\n",
       "  </thead>\n",
       "  <tbody>\n",
       "    <tr>\n",
       "      <td>52</td>\n",
       "      <td>서울시</td>\n",
       "      <td>송파구</td>\n",
       "      <td>롯데시네마 월드타워</td>\n",
       "      <td>직영</td>\n",
       "      <td>송파구 올림픽로 300 엔터동 5~11층</td>\n",
       "      <td>21.0</td>\n",
       "      <td>4617.0</td>\n",
       "      <td>www.lottecinema.co.kr</td>\n",
       "      <td>2014-10-15 00:00:00</td>\n",
       "    </tr>\n",
       "    <tr>\n",
       "      <td>3</td>\n",
       "      <td>서울시</td>\n",
       "      <td>강남구</td>\n",
       "      <td>메가박스 코엑스</td>\n",
       "      <td>직영</td>\n",
       "      <td>강남구 봉은사로 524 코엑스몰 B1 (삼성동 159)</td>\n",
       "      <td>18.0</td>\n",
       "      <td>3593.0</td>\n",
       "      <td>www.megabox.co.kr</td>\n",
       "      <td>2000-05-13 00:00:00</td>\n",
       "    </tr>\n",
       "    <tr>\n",
       "      <td>57</td>\n",
       "      <td>서울시</td>\n",
       "      <td>영등포구</td>\n",
       "      <td>CGV 영등포</td>\n",
       "      <td>직영</td>\n",
       "      <td>영등포구 영산로 15, 4층 (영등포동 4가 441-10번지 경방 타임스퀘어 4~7층)</td>\n",
       "      <td>12.0</td>\n",
       "      <td>2797.0</td>\n",
       "      <td>www.cgv.co.kr</td>\n",
       "      <td>2007-09-20 00:00:00</td>\n",
       "    </tr>\n",
       "    <tr>\n",
       "      <td>20</td>\n",
       "      <td>서울시</td>\n",
       "      <td>광진구</td>\n",
       "      <td>롯데시네마 건대입구</td>\n",
       "      <td>직영</td>\n",
       "      <td>광진구 아차산로 272 (자양동 227-7번지 스타시티 2층)</td>\n",
       "      <td>12.0</td>\n",
       "      <td>2225.0</td>\n",
       "      <td>www.lottecinema.co.kr</td>\n",
       "      <td>2007-01-27 00:00:00</td>\n",
       "    </tr>\n",
       "    <tr>\n",
       "      <td>8</td>\n",
       "      <td>서울시</td>\n",
       "      <td>강동구</td>\n",
       "      <td>CGV 강동</td>\n",
       "      <td>위탁</td>\n",
       "      <td>강동구 성내로 48 (성내동 549-1)</td>\n",
       "      <td>12.0</td>\n",
       "      <td>1965.0</td>\n",
       "      <td>www.cgv.co.kr</td>\n",
       "      <td>2007-04-23 00:00:00</td>\n",
       "    </tr>\n",
       "  </tbody>\n",
       "</table>\n",
       "</div>"
      ],
      "text/plain": [
       "    광역단체  기초단체         영화관명 대기업 운영 여부  \\\n",
       "52  서울시   송파구   롯데시네마 월드타워        직영    \n",
       "3    서울시   강남구     메가박스 코엑스        직영   \n",
       "57   서울시  영등포구      CGV 영등포        직영   \n",
       "20   서울시   광진구   롯데시네마 건대입구        직영   \n",
       "8    서울시   강동구       CGV 강동        위탁   \n",
       "\n",
       "                                                 소재지  총 스크린 수   총 좌석수  \\\n",
       "52                            송파구 올림픽로 300 엔터동 5~11층     21.0  4617.0   \n",
       "3                     강남구 봉은사로 524 코엑스몰 B1 (삼성동 159)     18.0  3593.0   \n",
       "57  영등포구 영산로 15, 4층 (영등포동 4가 441-10번지 경방 타임스퀘어 4~7층)     12.0  2797.0   \n",
       "20                광진구 아차산로 272 (자양동 227-7번지 스타시티 2층)     12.0  2225.0   \n",
       "8                             강동구 성내로 48 (성내동 549-1)     12.0  1965.0   \n",
       "\n",
       "                     홈페이지                  개관일  \n",
       "52  www.lottecinema.co.kr  2014-10-15 00:00:00  \n",
       "3       www.megabox.co.kr  2000-05-13 00:00:00  \n",
       "57          www.cgv.co.kr  2007-09-20 00:00:00  \n",
       "20  www.lottecinema.co.kr  2007-01-27 00:00:00  \n",
       "8           www.cgv.co.kr  2007-04-23 00:00:00  "
      ]
     },
     "execution_count": 5,
     "metadata": {},
     "output_type": "execute_result"
    }
   ],
   "source": [
    "df.sort_values(by='총 스크린 수', ascending=False).head()"
   ]
  },
  {
   "cell_type": "code",
   "execution_count": 6,
   "metadata": {},
   "outputs": [
    {
     "data": {
      "text/html": [
       "<div>\n",
       "<style scoped>\n",
       "    .dataframe tbody tr th:only-of-type {\n",
       "        vertical-align: middle;\n",
       "    }\n",
       "\n",
       "    .dataframe tbody tr th {\n",
       "        vertical-align: top;\n",
       "    }\n",
       "\n",
       "    .dataframe thead th {\n",
       "        text-align: right;\n",
       "    }\n",
       "</style>\n",
       "<table border=\"1\" class=\"dataframe\">\n",
       "  <thead>\n",
       "    <tr style=\"text-align: right;\">\n",
       "      <th></th>\n",
       "      <th>광역단체</th>\n",
       "      <th>기초단체</th>\n",
       "      <th>영화관명</th>\n",
       "      <th>대기업 운영 여부</th>\n",
       "      <th>소재지</th>\n",
       "      <th>총 스크린 수</th>\n",
       "      <th>총 좌석수</th>\n",
       "      <th>홈페이지</th>\n",
       "      <th>개관일</th>\n",
       "    </tr>\n",
       "  </thead>\n",
       "  <tbody>\n",
       "    <tr>\n",
       "      <td>52</td>\n",
       "      <td>서울시</td>\n",
       "      <td>송파구</td>\n",
       "      <td>롯데시네마 월드타워</td>\n",
       "      <td>직영</td>\n",
       "      <td>송파구 올림픽로 300 엔터동 5~11층</td>\n",
       "      <td>21.0</td>\n",
       "      <td>4617.0</td>\n",
       "      <td>www.lottecinema.co.kr</td>\n",
       "      <td>2014-10-15 00:00:00</td>\n",
       "    </tr>\n",
       "    <tr>\n",
       "      <td>3</td>\n",
       "      <td>서울시</td>\n",
       "      <td>강남구</td>\n",
       "      <td>메가박스 코엑스</td>\n",
       "      <td>직영</td>\n",
       "      <td>강남구 봉은사로 524 코엑스몰 B1 (삼성동 159)</td>\n",
       "      <td>18.0</td>\n",
       "      <td>3593.0</td>\n",
       "      <td>www.megabox.co.kr</td>\n",
       "      <td>2000-05-13 00:00:00</td>\n",
       "    </tr>\n",
       "    <tr>\n",
       "      <td>57</td>\n",
       "      <td>서울시</td>\n",
       "      <td>영등포구</td>\n",
       "      <td>CGV 영등포</td>\n",
       "      <td>직영</td>\n",
       "      <td>영등포구 영산로 15, 4층 (영등포동 4가 441-10번지 경방 타임스퀘어 4~7층)</td>\n",
       "      <td>12.0</td>\n",
       "      <td>2797.0</td>\n",
       "      <td>www.cgv.co.kr</td>\n",
       "      <td>2007-09-20 00:00:00</td>\n",
       "    </tr>\n",
       "    <tr>\n",
       "      <td>79</td>\n",
       "      <td>서울시</td>\n",
       "      <td>중구</td>\n",
       "      <td>대한극장</td>\n",
       "      <td>~</td>\n",
       "      <td>중구 퇴계로 212 (충무로 4가 125)</td>\n",
       "      <td>11.0</td>\n",
       "      <td>2754.0</td>\n",
       "      <td>www.daehancinema.com</td>\n",
       "      <td>2001-12-15 00:00:00</td>\n",
       "    </tr>\n",
       "    <tr>\n",
       "      <td>58</td>\n",
       "      <td>서울시</td>\n",
       "      <td>용산구</td>\n",
       "      <td>CGV 용산</td>\n",
       "      <td>직영</td>\n",
       "      <td>용산구 한강대로 23길 55, 6층 (한강로 3가 40-1 용산민자역사 6층)</td>\n",
       "      <td>11.0</td>\n",
       "      <td>2291.0</td>\n",
       "      <td>www.cgv.co.kr</td>\n",
       "      <td>2004-10-08 00:00:00</td>\n",
       "    </tr>\n",
       "  </tbody>\n",
       "</table>\n",
       "</div>"
      ],
      "text/plain": [
       "    광역단체  기초단체         영화관명 대기업 운영 여부  \\\n",
       "52  서울시   송파구   롯데시네마 월드타워        직영    \n",
       "3    서울시   강남구     메가박스 코엑스        직영   \n",
       "57   서울시  영등포구      CGV 영등포        직영   \n",
       "79   서울시    중구         대한극장         ~   \n",
       "58   서울시   용산구       CGV 용산        직영   \n",
       "\n",
       "                                                 소재지  총 스크린 수   총 좌석수  \\\n",
       "52                            송파구 올림픽로 300 엔터동 5~11층     21.0  4617.0   \n",
       "3                     강남구 봉은사로 524 코엑스몰 B1 (삼성동 159)     18.0  3593.0   \n",
       "57  영등포구 영산로 15, 4층 (영등포동 4가 441-10번지 경방 타임스퀘어 4~7층)     12.0  2797.0   \n",
       "79                           중구 퇴계로 212 (충무로 4가 125)     11.0  2754.0   \n",
       "58       용산구 한강대로 23길 55, 6층 (한강로 3가 40-1 용산민자역사 6층)     11.0  2291.0   \n",
       "\n",
       "                     홈페이지                  개관일  \n",
       "52  www.lottecinema.co.kr  2014-10-15 00:00:00  \n",
       "3       www.megabox.co.kr  2000-05-13 00:00:00  \n",
       "57          www.cgv.co.kr  2007-09-20 00:00:00  \n",
       "79   www.daehancinema.com  2001-12-15 00:00:00  \n",
       "58          www.cgv.co.kr  2004-10-08 00:00:00  "
      ]
     },
     "execution_count": 6,
     "metadata": {},
     "output_type": "execute_result"
    }
   ],
   "source": [
    "df.sort_values(by='총 좌석수', ascending=False).head()"
   ]
  },
  {
   "cell_type": "code",
   "execution_count": 7,
   "metadata": {},
   "outputs": [
    {
     "data": {
      "text/html": [
       "<div>\n",
       "<style scoped>\n",
       "    .dataframe tbody tr th:only-of-type {\n",
       "        vertical-align: middle;\n",
       "    }\n",
       "\n",
       "    .dataframe tbody tr th {\n",
       "        vertical-align: top;\n",
       "    }\n",
       "\n",
       "    .dataframe thead th {\n",
       "        text-align: right;\n",
       "    }\n",
       "</style>\n",
       "<table border=\"1\" class=\"dataframe\">\n",
       "  <thead>\n",
       "    <tr style=\"text-align: right;\">\n",
       "      <th></th>\n",
       "      <th>광역단체</th>\n",
       "      <th>기초단체</th>\n",
       "      <th>영화관명</th>\n",
       "      <th>대기업 운영 여부</th>\n",
       "      <th>소재지</th>\n",
       "      <th>총 스크린 수</th>\n",
       "      <th>총 좌석수</th>\n",
       "      <th>홈페이지</th>\n",
       "      <th>개관일</th>\n",
       "    </tr>\n",
       "  </thead>\n",
       "  <tbody>\n",
       "    <tr>\n",
       "      <td>52</td>\n",
       "      <td>서울시</td>\n",
       "      <td>송파구</td>\n",
       "      <td>롯데시네마 월드타워</td>\n",
       "      <td>직영</td>\n",
       "      <td>송파구 올림픽로 300 엔터동 5~11층</td>\n",
       "      <td>21.0</td>\n",
       "      <td>4617.0</td>\n",
       "      <td>www.lottecinema.co.kr</td>\n",
       "      <td>2014-10-15 00:00:00</td>\n",
       "    </tr>\n",
       "    <tr>\n",
       "      <td>3</td>\n",
       "      <td>서울시</td>\n",
       "      <td>강남구</td>\n",
       "      <td>메가박스 코엑스</td>\n",
       "      <td>직영</td>\n",
       "      <td>강남구 봉은사로 524 코엑스몰 B1 (삼성동 159)</td>\n",
       "      <td>18.0</td>\n",
       "      <td>3593.0</td>\n",
       "      <td>www.megabox.co.kr</td>\n",
       "      <td>2000-05-13 00:00:00</td>\n",
       "    </tr>\n",
       "    <tr>\n",
       "      <td>57</td>\n",
       "      <td>서울시</td>\n",
       "      <td>영등포구</td>\n",
       "      <td>CGV 영등포</td>\n",
       "      <td>직영</td>\n",
       "      <td>영등포구 영산로 15, 4층 (영등포동 4가 441-10번지 경방 타임스퀘어 4~7층)</td>\n",
       "      <td>12.0</td>\n",
       "      <td>2797.0</td>\n",
       "      <td>www.cgv.co.kr</td>\n",
       "      <td>2007-09-20 00:00:00</td>\n",
       "    </tr>\n",
       "    <tr>\n",
       "      <td>20</td>\n",
       "      <td>서울시</td>\n",
       "      <td>광진구</td>\n",
       "      <td>롯데시네마 건대입구</td>\n",
       "      <td>직영</td>\n",
       "      <td>광진구 아차산로 272 (자양동 227-7번지 스타시티 2층)</td>\n",
       "      <td>12.0</td>\n",
       "      <td>2225.0</td>\n",
       "      <td>www.lottecinema.co.kr</td>\n",
       "      <td>2007-01-27 00:00:00</td>\n",
       "    </tr>\n",
       "    <tr>\n",
       "      <td>8</td>\n",
       "      <td>서울시</td>\n",
       "      <td>강동구</td>\n",
       "      <td>CGV 강동</td>\n",
       "      <td>위탁</td>\n",
       "      <td>강동구 성내로 48 (성내동 549-1)</td>\n",
       "      <td>12.0</td>\n",
       "      <td>1965.0</td>\n",
       "      <td>www.cgv.co.kr</td>\n",
       "      <td>2007-04-23 00:00:00</td>\n",
       "    </tr>\n",
       "  </tbody>\n",
       "</table>\n",
       "</div>"
      ],
      "text/plain": [
       "    광역단체  기초단체         영화관명 대기업 운영 여부  \\\n",
       "52  서울시   송파구   롯데시네마 월드타워        직영    \n",
       "3    서울시   강남구     메가박스 코엑스        직영   \n",
       "57   서울시  영등포구      CGV 영등포        직영   \n",
       "20   서울시   광진구   롯데시네마 건대입구        직영   \n",
       "8    서울시   강동구       CGV 강동        위탁   \n",
       "\n",
       "                                                 소재지  총 스크린 수   총 좌석수  \\\n",
       "52                            송파구 올림픽로 300 엔터동 5~11층     21.0  4617.0   \n",
       "3                     강남구 봉은사로 524 코엑스몰 B1 (삼성동 159)     18.0  3593.0   \n",
       "57  영등포구 영산로 15, 4층 (영등포동 4가 441-10번지 경방 타임스퀘어 4~7층)     12.0  2797.0   \n",
       "20                광진구 아차산로 272 (자양동 227-7번지 스타시티 2층)     12.0  2225.0   \n",
       "8                             강동구 성내로 48 (성내동 549-1)     12.0  1965.0   \n",
       "\n",
       "                     홈페이지                  개관일  \n",
       "52  www.lottecinema.co.kr  2014-10-15 00:00:00  \n",
       "3       www.megabox.co.kr  2000-05-13 00:00:00  \n",
       "57          www.cgv.co.kr  2007-09-20 00:00:00  \n",
       "20  www.lottecinema.co.kr  2007-01-27 00:00:00  \n",
       "8           www.cgv.co.kr  2007-04-23 00:00:00  "
      ]
     },
     "execution_count": 7,
     "metadata": {},
     "output_type": "execute_result"
    }
   ],
   "source": [
    "df.sort_values(by=['총 스크린 수','총 좌석수'], ascending=False).head()"
   ]
  },
  {
   "cell_type": "code",
   "execution_count": 8,
   "metadata": {},
   "outputs": [
    {
     "data": {
      "text/html": [
       "<div>\n",
       "<style scoped>\n",
       "    .dataframe tbody tr th:only-of-type {\n",
       "        vertical-align: middle;\n",
       "    }\n",
       "\n",
       "    .dataframe tbody tr th {\n",
       "        vertical-align: top;\n",
       "    }\n",
       "\n",
       "    .dataframe thead th {\n",
       "        text-align: right;\n",
       "    }\n",
       "</style>\n",
       "<table border=\"1\" class=\"dataframe\">\n",
       "  <thead>\n",
       "    <tr style=\"text-align: right;\">\n",
       "      <th></th>\n",
       "      <th>광역단체</th>\n",
       "      <th>기초단체</th>\n",
       "      <th>영화관명</th>\n",
       "      <th>대기업 운영 여부</th>\n",
       "      <th>소재지</th>\n",
       "      <th>총 스크린 수</th>\n",
       "      <th>총 좌석수</th>\n",
       "      <th>홈페이지</th>\n",
       "      <th>개관일</th>\n",
       "    </tr>\n",
       "  </thead>\n",
       "  <tbody>\n",
       "    <tr>\n",
       "      <td>18</td>\n",
       "      <td>서울시</td>\n",
       "      <td>광진구</td>\n",
       "      <td>CGV 강변</td>\n",
       "      <td>직영</td>\n",
       "      <td>광진구 광나루로 56길 85 (구의동 546-4 테크노마트 10층)</td>\n",
       "      <td>11.0</td>\n",
       "      <td>1663.0</td>\n",
       "      <td>www.cgv.co.kr</td>\n",
       "      <td>1998-04-04</td>\n",
       "    </tr>\n",
       "    <tr>\n",
       "      <td>3</td>\n",
       "      <td>서울시</td>\n",
       "      <td>강남구</td>\n",
       "      <td>메가박스 코엑스</td>\n",
       "      <td>직영</td>\n",
       "      <td>강남구 봉은사로 524 코엑스몰 B1 (삼성동 159)</td>\n",
       "      <td>18.0</td>\n",
       "      <td>3593.0</td>\n",
       "      <td>www.megabox.co.kr</td>\n",
       "      <td>2000-05-13</td>\n",
       "    </tr>\n",
       "    <tr>\n",
       "      <td>79</td>\n",
       "      <td>서울시</td>\n",
       "      <td>중구</td>\n",
       "      <td>대한극장</td>\n",
       "      <td>~</td>\n",
       "      <td>중구 퇴계로 212 (충무로 4가 125)</td>\n",
       "      <td>11.0</td>\n",
       "      <td>2754.0</td>\n",
       "      <td>www.daehancinema.com</td>\n",
       "      <td>2001-12-15</td>\n",
       "    </tr>\n",
       "    <tr>\n",
       "      <td>73</td>\n",
       "      <td>서울시</td>\n",
       "      <td>중구</td>\n",
       "      <td>CGV 명동</td>\n",
       "      <td>직영</td>\n",
       "      <td>중구 명동길 14 (명동2가 83-5번지 눈스퀘어 8층)</td>\n",
       "      <td>5.0</td>\n",
       "      <td>736.0</td>\n",
       "      <td>www.cgv.co.kr</td>\n",
       "      <td>2001-12-23</td>\n",
       "    </tr>\n",
       "    <tr>\n",
       "      <td>22</td>\n",
       "      <td>서울시</td>\n",
       "      <td>구로구</td>\n",
       "      <td>CGV 구로</td>\n",
       "      <td>직영</td>\n",
       "      <td>구로구 구로중앙로 152 (구로동 573 애경백화점 5층)</td>\n",
       "      <td>10.0</td>\n",
       "      <td>1900.0</td>\n",
       "      <td>www.cgv.co.kr</td>\n",
       "      <td>2002-01-23</td>\n",
       "    </tr>\n",
       "    <tr>\n",
       "      <td>66</td>\n",
       "      <td>서울시</td>\n",
       "      <td>종로구</td>\n",
       "      <td>서울아트시네마</td>\n",
       "      <td>~</td>\n",
       "      <td>종로구 돈화문로 13, 서울극장 3층</td>\n",
       "      <td>1.0</td>\n",
       "      <td>202.0</td>\n",
       "      <td>www.cinematheque.seoul.kr</td>\n",
       "      <td>2002-05-10</td>\n",
       "    </tr>\n",
       "    <tr>\n",
       "      <td>54</td>\n",
       "      <td>서울시</td>\n",
       "      <td>양천구</td>\n",
       "      <td>CGV 목동</td>\n",
       "      <td>직영</td>\n",
       "      <td>양천구 목동로 257, 지하2층 (목동 916 현대백화점 지하2층)</td>\n",
       "      <td>8.0</td>\n",
       "      <td>1372.0</td>\n",
       "      <td>www.cgv.co.kr</td>\n",
       "      <td>2002-08-31</td>\n",
       "    </tr>\n",
       "    <tr>\n",
       "      <td>39</td>\n",
       "      <td>서울시</td>\n",
       "      <td>마포구</td>\n",
       "      <td>CGV 상암</td>\n",
       "      <td>직영</td>\n",
       "      <td>마포구 월드컵로 240, 1층 (성산동 515 월드컵쇼핑몰1층)</td>\n",
       "      <td>10.0</td>\n",
       "      <td>1691.0</td>\n",
       "      <td>www.cgv.co.kr</td>\n",
       "      <td>2003-05-21</td>\n",
       "    </tr>\n",
       "    <tr>\n",
       "      <td>49</td>\n",
       "      <td>서울시</td>\n",
       "      <td>성북구</td>\n",
       "      <td>아리랑시네미디어센터</td>\n",
       "      <td>~</td>\n",
       "      <td>성북구 아리랑로 82 (돈암동 538-98)</td>\n",
       "      <td>3.0</td>\n",
       "      <td>472.0</td>\n",
       "      <td>cine.arirang.go.kr</td>\n",
       "      <td>2004-05-01</td>\n",
       "    </tr>\n",
       "    <tr>\n",
       "      <td>58</td>\n",
       "      <td>서울시</td>\n",
       "      <td>용산구</td>\n",
       "      <td>CGV 용산</td>\n",
       "      <td>직영</td>\n",
       "      <td>용산구 한강대로 23길 55, 6층 (한강로 3가 40-1 용산민자역사 6층)</td>\n",
       "      <td>11.0</td>\n",
       "      <td>2291.0</td>\n",
       "      <td>www.cgv.co.kr</td>\n",
       "      <td>2004-10-08</td>\n",
       "    </tr>\n",
       "  </tbody>\n",
       "</table>\n",
       "</div>"
      ],
      "text/plain": [
       "   광역단체 기초단체        영화관명 대기업 운영 여부  \\\n",
       "18  서울시  광진구      CGV 강변        직영   \n",
       "3   서울시  강남구    메가박스 코엑스        직영   \n",
       "79  서울시   중구        대한극장         ~   \n",
       "73  서울시   중구      CGV 명동        직영   \n",
       "22  서울시  구로구      CGV 구로        직영   \n",
       "66  서울시  종로구     서울아트시네마         ~   \n",
       "54  서울시  양천구      CGV 목동        직영   \n",
       "39  서울시  마포구      CGV 상암        직영   \n",
       "49  서울시  성북구  아리랑시네미디어센터         ~   \n",
       "58  서울시  용산구      CGV 용산        직영   \n",
       "\n",
       "                                            소재지  총 스크린 수   총 좌석수  \\\n",
       "18        광진구 광나루로 56길 85 (구의동 546-4 테크노마트 10층)     11.0  1663.0   \n",
       "3                강남구 봉은사로 524 코엑스몰 B1 (삼성동 159)     18.0  3593.0   \n",
       "79                      중구 퇴계로 212 (충무로 4가 125)     11.0  2754.0   \n",
       "73              중구 명동길 14 (명동2가 83-5번지 눈스퀘어 8층)      5.0   736.0   \n",
       "22             구로구 구로중앙로 152 (구로동 573 애경백화점 5층)     10.0  1900.0   \n",
       "66                         종로구 돈화문로 13, 서울극장 3층      1.0   202.0   \n",
       "54        양천구 목동로 257, 지하2층 (목동 916 현대백화점 지하2층)      8.0  1372.0   \n",
       "39          마포구 월드컵로 240, 1층 (성산동 515 월드컵쇼핑몰1층)     10.0  1691.0   \n",
       "49                     성북구 아리랑로 82 (돈암동 538-98)      3.0   472.0   \n",
       "58  용산구 한강대로 23길 55, 6층 (한강로 3가 40-1 용산민자역사 6층)     11.0  2291.0   \n",
       "\n",
       "                         홈페이지        개관일  \n",
       "18              www.cgv.co.kr 1998-04-04  \n",
       "3           www.megabox.co.kr 2000-05-13  \n",
       "79       www.daehancinema.com 2001-12-15  \n",
       "73              www.cgv.co.kr 2001-12-23  \n",
       "22              www.cgv.co.kr 2002-01-23  \n",
       "66  www.cinematheque.seoul.kr 2002-05-10  \n",
       "54              www.cgv.co.kr 2002-08-31  \n",
       "39              www.cgv.co.kr 2003-05-21  \n",
       "49         cine.arirang.go.kr 2004-05-01  \n",
       "58              www.cgv.co.kr 2004-10-08  "
      ]
     },
     "execution_count": 8,
     "metadata": {},
     "output_type": "execute_result"
    }
   ],
   "source": [
    "df['개관일'] = pd.to_datetime(df['개관일'], errors='coerce')\n",
    "df.sort_values(by='개관일').head(10)"
   ]
  },
  {
   "cell_type": "code",
   "execution_count": 9,
   "metadata": {},
   "outputs": [
    {
     "data": {
      "text/html": [
       "<div>\n",
       "<style scoped>\n",
       "    .dataframe tbody tr th:only-of-type {\n",
       "        vertical-align: middle;\n",
       "    }\n",
       "\n",
       "    .dataframe tbody tr th {\n",
       "        vertical-align: top;\n",
       "    }\n",
       "\n",
       "    .dataframe thead th {\n",
       "        text-align: right;\n",
       "    }\n",
       "</style>\n",
       "<table border=\"1\" class=\"dataframe\">\n",
       "  <thead>\n",
       "    <tr style=\"text-align: right;\">\n",
       "      <th></th>\n",
       "      <th>광역단체</th>\n",
       "      <th>기초단체</th>\n",
       "      <th>영화관명</th>\n",
       "      <th>대기업 운영 여부</th>\n",
       "      <th>소재지</th>\n",
       "      <th>총 스크린 수</th>\n",
       "      <th>총 좌석수</th>\n",
       "      <th>홈페이지</th>\n",
       "      <th>개관일</th>\n",
       "    </tr>\n",
       "  </thead>\n",
       "  <tbody>\n",
       "    <tr>\n",
       "      <td>72</td>\n",
       "      <td>서울시</td>\n",
       "      <td>중구</td>\n",
       "      <td>롯데시네마 에비뉴엘(명동)</td>\n",
       "      <td>직영</td>\n",
       "      <td>중구 남대문로 2가 130 (소공동 에비뉴엘 6층, 7층)</td>\n",
       "      <td>5.0</td>\n",
       "      <td>710.0</td>\n",
       "      <td>www.lottecinema.co.kr</td>\n",
       "      <td>2005-03-25</td>\n",
       "    </tr>\n",
       "    <tr>\n",
       "      <td>55</td>\n",
       "      <td>서울시</td>\n",
       "      <td>영등포구</td>\n",
       "      <td>롯데시네마 영등포</td>\n",
       "      <td>직영</td>\n",
       "      <td>영등포구 경인로 102길 13 (영등포동 618-496)</td>\n",
       "      <td>7.0</td>\n",
       "      <td>1328.0</td>\n",
       "      <td>www.lottecinema.co.kr</td>\n",
       "      <td>2005-04-29</td>\n",
       "    </tr>\n",
       "    <tr>\n",
       "      <td>27</td>\n",
       "      <td>서울시</td>\n",
       "      <td>노원구</td>\n",
       "      <td>롯데시네마 노원</td>\n",
       "      <td>직영</td>\n",
       "      <td>노원구 동일로 1414 롯데백화점 10층 (상계동 713)</td>\n",
       "      <td>10.0</td>\n",
       "      <td>1868.0</td>\n",
       "      <td>www.lottecinema.co.kr</td>\n",
       "      <td>2005-11-23</td>\n",
       "    </tr>\n",
       "    <tr>\n",
       "      <td>20</td>\n",
       "      <td>서울시</td>\n",
       "      <td>광진구</td>\n",
       "      <td>롯데시네마 건대입구</td>\n",
       "      <td>직영</td>\n",
       "      <td>광진구 아차산로 272 (자양동 227-7번지 스타시티 2층)</td>\n",
       "      <td>12.0</td>\n",
       "      <td>2225.0</td>\n",
       "      <td>www.lottecinema.co.kr</td>\n",
       "      <td>2007-01-27</td>\n",
       "    </tr>\n",
       "    <tr>\n",
       "      <td>36</td>\n",
       "      <td>서울시</td>\n",
       "      <td>마포구</td>\n",
       "      <td>롯데시네마 홍대입구</td>\n",
       "      <td>직영</td>\n",
       "      <td>마포구 양화로 176 와이즈파크 8층 (동교동166-6번지)</td>\n",
       "      <td>6.0</td>\n",
       "      <td>1104.0</td>\n",
       "      <td>www.lottecinema.co.kr</td>\n",
       "      <td>2008-01-01</td>\n",
       "    </tr>\n",
       "  </tbody>\n",
       "</table>\n",
       "</div>"
      ],
      "text/plain": [
       "   광역단체  기초단체            영화관명 대기업 운영 여부                                 소재지  \\\n",
       "72  서울시    중구  롯데시네마 에비뉴엘(명동)        직영   중구 남대문로 2가 130 (소공동 에비뉴엘 6층, 7층)    \n",
       "55  서울시  영등포구       롯데시네마 영등포        직영     영등포구 경인로 102길 13 (영등포동 618-496)   \n",
       "27  서울시   노원구        롯데시네마 노원        직영    노원구 동일로 1414 롯데백화점 10층 (상계동 713)   \n",
       "20  서울시   광진구      롯데시네마 건대입구        직영  광진구 아차산로 272 (자양동 227-7번지 스타시티 2층)   \n",
       "36  서울시   마포구      롯데시네마 홍대입구        직영   마포구 양화로 176 와이즈파크 8층 (동교동166-6번지)   \n",
       "\n",
       "    총 스크린 수   총 좌석수                   홈페이지        개관일  \n",
       "72      5.0   710.0  www.lottecinema.co.kr 2005-03-25  \n",
       "55      7.0  1328.0  www.lottecinema.co.kr 2005-04-29  \n",
       "27     10.0  1868.0  www.lottecinema.co.kr 2005-11-23  \n",
       "20     12.0  2225.0  www.lottecinema.co.kr 2007-01-27  \n",
       "36      6.0  1104.0  www.lottecinema.co.kr 2008-01-01  "
      ]
     },
     "execution_count": 9,
     "metadata": {},
     "output_type": "execute_result"
    }
   ],
   "source": [
    "temp_series = pd.Series(df['영화관명'])\n",
    "df[temp_series.str.contains('롯데')].sort_values(by='개관일').head(5)"
   ]
  },
  {
   "cell_type": "code",
   "execution_count": 10,
   "metadata": {},
   "outputs": [
    {
     "data": {
      "text/plain": [
       "www.cgv.co.kr                       27\n",
       "www.lottecinema.co.kr               23\n",
       "www.megabox.co.kr                   12\n",
       "www.cineart.co.kr                    2\n",
       "www.daehancinema.com                 1\n",
       "www.kucine.kr                        1\n",
       "www.cinematheque.seoul.kr            1\n",
       "cinema.sangsangmadang.com            1\n",
       "www.spongehouse.com                  1\n",
       "cinema.ani.seoul.kr                  1\n",
       "café.naver.com/indiespace            1\n",
       "café.naver.com/kucinematrap          1\n",
       "cine.arirang.go.kr                   1\n",
       "www.seoulcinema.com                  1\n",
       "café.naver.com/seoulsilvercinema     1\n",
       "www.indieplus.or.kr                  1\n",
       "cafe.naver.com/filmforum             1\n",
       "Name: 홈페이지, dtype: int64"
      ]
     },
     "execution_count": 10,
     "metadata": {},
     "output_type": "execute_result"
    }
   ],
   "source": [
    "pd.Series(df['홈페이지']).value_counts()"
   ]
  },
  {
   "cell_type": "code",
   "execution_count": 11,
   "metadata": {},
   "outputs": [
    {
     "data": {
      "text/plain": [
       "23"
      ]
     },
     "execution_count": 11,
     "metadata": {},
     "output_type": "execute_result"
    }
   ],
   "source": [
    "temp_series = pd.Series(df['영화관명'])\n",
    "df_lotte = df[temp_series.str.contains('롯데')]\n",
    "len(df_lotte)"
   ]
  },
  {
   "cell_type": "code",
   "execution_count": 12,
   "metadata": {},
   "outputs": [
    {
     "data": {
      "text/plain": [
       "164.0"
      ]
     },
     "execution_count": 12,
     "metadata": {},
     "output_type": "execute_result"
    }
   ],
   "source": [
    "np.sum(df_lotte['총 스크린 수'])"
   ]
  },
  {
   "cell_type": "code",
   "execution_count": 13,
   "metadata": {},
   "outputs": [
    {
     "data": {
      "text/plain": [
       "29433.0"
      ]
     },
     "execution_count": 13,
     "metadata": {},
     "output_type": "execute_result"
    }
   ],
   "source": [
    "np.sum(df_lotte['총 좌석수'])"
   ]
  },
  {
   "cell_type": "code",
   "execution_count": 14,
   "metadata": {},
   "outputs": [
    {
     "data": {
      "text/plain": [
       "27"
      ]
     },
     "execution_count": 14,
     "metadata": {},
     "output_type": "execute_result"
    }
   ],
   "source": [
    "df_cgv = df[temp_series.str.contains('CGV')]\n",
    "len(df_cgv)"
   ]
  },
  {
   "cell_type": "code",
   "execution_count": 15,
   "metadata": {},
   "outputs": [
    {
     "data": {
      "text/plain": [
       "216.0"
      ]
     },
     "execution_count": 15,
     "metadata": {},
     "output_type": "execute_result"
    }
   ],
   "source": [
    "np.sum(df_cgv['총 스크린 수'])"
   ]
  },
  {
   "cell_type": "code",
   "execution_count": 16,
   "metadata": {},
   "outputs": [
    {
     "data": {
      "text/plain": [
       "36661.0"
      ]
     },
     "execution_count": 16,
     "metadata": {},
     "output_type": "execute_result"
    }
   ],
   "source": [
    "np.sum(df_cgv['총 좌석수'])"
   ]
  },
  {
   "cell_type": "code",
   "execution_count": 17,
   "metadata": {},
   "outputs": [
    {
     "data": {
      "text/plain": [
       "11"
      ]
     },
     "execution_count": 17,
     "metadata": {},
     "output_type": "execute_result"
    }
   ],
   "source": [
    "df_mb = df[temp_series.str.contains('메가박스')]\n",
    "len(df_mb)"
   ]
  },
  {
   "cell_type": "code",
   "execution_count": 18,
   "metadata": {},
   "outputs": [
    {
     "data": {
      "text/plain": [
       "88.0"
      ]
     },
     "execution_count": 18,
     "metadata": {},
     "output_type": "execute_result"
    }
   ],
   "source": [
    "np.sum(df_mb['총 스크린 수'])"
   ]
  },
  {
   "cell_type": "code",
   "execution_count": 19,
   "metadata": {},
   "outputs": [
    {
     "data": {
      "text/plain": [
       "14891.0"
      ]
     },
     "execution_count": 19,
     "metadata": {},
     "output_type": "execute_result"
    }
   ],
   "source": [
    "np.sum(df_mb['총 좌석수'])"
   ]
  },
  {
   "cell_type": "code",
   "execution_count": 20,
   "metadata": {},
   "outputs": [
    {
     "name": "stdout",
     "output_type": "stream",
     "text": [
      "45.26887695252208\n",
      "36.34376736432673\n",
      "18.387355683151203\n"
     ]
    }
   ],
   "source": [
    "lotte_num = np.sum(df_lotte['총 좌석수'])\n",
    "cgv_num = np.sum(df_cgv['총 좌석수'])\n",
    "mb_num = np.sum(df_mb['총 좌석수'])\n",
    "\n",
    "total = lotte_num + cgv_num + mb_num\n",
    "\n",
    "print(cgv_num / total * 100)\n",
    "print(lotte_num / total * 100)\n",
    "print(mb_num / total * 100)"
   ]
  },
  {
   "cell_type": "code",
   "execution_count": 23,
   "metadata": {
    "scrolled": false
   },
   "outputs": [
    {
     "data": {
      "text/plain": [
       "<matplotlib.axes._subplots.AxesSubplot at 0x1e5ba0ade08>"
      ]
     },
     "execution_count": 23,
     "metadata": {},
     "output_type": "execute_result"
    },
    {
     "data": {
      "image/png": "[encoded data removed]",
      "text/plain": [
       "<Figure size 432x288 with 1 Axes>"
      ]
     },
     "metadata": {
      "needs_background": "light"
     },
     "output_type": "display_data"
    }
   ],
   "source": [
    "df_region = pd.Series(df['기초단체']).value_counts().to_frame()\n",
    "df_region.plot(kind='bar')"
   ]
  },
  {
   "cell_type": "code",
   "execution_count": 29,
   "metadata": {},
   "outputs": [
    {
     "data": {
      "text/plain": [
       "기초단체\n",
       "강남구     41.0\n",
       "강남구      7.0\n",
       "강동구     28.0\n",
       "강북구     15.0\n",
       "강서구     21.0\n",
       "관악구     13.0\n",
       "광진구     33.0\n",
       "구로구     20.0\n",
       "구로구      5.0\n",
       "금천구     14.0\n",
       "노원구     26.0\n",
       "동대문구    15.0\n",
       "동작구      8.0\n",
       "마포구     29.0\n",
       "서대문구    21.0\n",
       "서초구     12.0\n",
       "성동구     10.0\n",
       "성북구      9.0\n",
       "송파구      7.0\n",
       "송파구     21.0\n",
       "양천구     17.0\n",
       "영등포구    28.0\n",
       "용산구     11.0\n",
       "용산구      8.0\n",
       "은평구     16.0\n",
       "종로구     29.0\n",
       "종로구      2.0\n",
       "중구      38.0\n",
       "중랑구      7.0\n",
       "Name: 총 스크린 수, dtype: float64"
      ]
     },
     "execution_count": 29,
     "metadata": {},
     "output_type": "execute_result"
    }
   ],
   "source": [
    "grouped = df['총 스크린 수'].groupby(df['기초단체'])\n",
    "grouped.size()\n",
    "grouped.sum()"
   ]
  }
 ],
 "metadata": {
  "kernelspec": {
   "display_name": "Python 3",
   "language": "python",
   "name": "python3"
  },
  "language_info": {
   "codemirror_mode": {
    "name": "ipython",
    "version": 3
   },
   "file_extension": ".py",
   "mimetype": "text/x-python",
   "name": "python",
   "nbconvert_exporter": "python",
   "pygments_lexer": "ipython3",
   "version": "3.7.4"
  }
 },
 "nbformat": 4,
 "nbformat_minor": 2
}
